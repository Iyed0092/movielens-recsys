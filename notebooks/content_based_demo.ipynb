{
 "cells": [
  {
   "cell_type": "code",
   "execution_count": 1,
   "id": "74620dda",
   "metadata": {},
   "outputs": [
    {
     "name": "stdout",
     "output_type": "stream",
     "text": [
      "Current working directory: c:\\Users\\iyedm\\OneDrive\\Desktop\\movielens-recsys\\notebooks\n",
      "Processed folder exists: True\n"
     ]
    }
   ],
   "source": [
    "import os\n",
    "\n",
    "PROCESSED_DIR = r\"C:\\Users\\iyedm\\OneDrive\\Desktop\\movielens-recsys\"\n",
    "\n",
    "# Create the folder if it doesn't exist\n",
    "os.makedirs(PROCESSED_DIR, exist_ok=True)\n",
    "\n",
    "# Check\n",
    "print(\"Current working directory:\", os.getcwd())\n",
    "print(\"Processed folder exists:\", os.path.exists(PROCESSED_DIR))\n"
   ]
  },
  {
   "cell_type": "code",
   "execution_count": 2,
   "id": "f45f6cd4",
   "metadata": {},
   "outputs": [
    {
     "name": "stdout",
     "output_type": "stream",
     "text": [
      "Current working directory: C:\\Users\\iyedm\\OneDrive\\Desktop\\movielens-recsys\n"
     ]
    }
   ],
   "source": [
    "os.chdir(PROCESSED_DIR)\n",
    "print(\"Current working directory:\", os.getcwd())\n"
   ]
  },
  {
   "cell_type": "code",
   "execution_count": 3,
   "id": "255efafd",
   "metadata": {},
   "outputs": [
    {
     "name": "stdout",
     "output_type": "stream",
     "text": [
      "Top 5 recommendations for user 1:\n",
      "      movieId              title\n",
      "1748     1812  Wide Awake (1998)\n",
      "1001     1014   Pollyanna (1960)\n",
      "33         34        Babe (1995)\n",
      "238       241       Fluke (1995)\n",
      "2331     2400     Prancer (1989)\n",
      "----------------------------------------\n",
      "Top 5 recommendations for user 50:\n",
      "      movieId                                              title\n",
      "3158     3227  Not Love, Just Frenzy (Más que amor, frenesí) ...\n",
      "1602     1648                           House of Yes, The (1997)\n",
      "2673     2742                    Ménage (Tenue de soirée) (1986)\n",
      "2669     2738                         Crimes of the Heart (1986)\n",
      "3874     3944                                     Bootmen (2000)\n",
      "----------------------------------------\n",
      "Top 5 recommendations for user 100:\n",
      "      movieId                            title\n",
      "2301     2370       Emerald Forest, The (1985)\n",
      "2352     2421  Karate Kid, Part II, The (1986)\n",
      "2353     2422       Karate Kid III, The (1989)\n",
      "1267     1287                   Ben-Hur (1959)\n",
      "3736     3805              Knightriders (1981)\n",
      "----------------------------------------\n",
      "Hit Ratio @10: 0.0156\n",
      "Evaluation metrics for content-based recommender:\n",
      "None\n"
     ]
    }
   ],
   "source": [
    "# Demo: Content-Based Recommender\n",
    "\n",
    "import pandas as pd\n",
    "from scripts.recommend_content import recommend\n",
    "from scripts.evaluate import evaluate\n",
    "\n",
    "PROCESSED_DIR = \"./data/processed\"\n",
    "\n",
    "movies = pd.read_csv(f\"{PROCESSED_DIR}/movies.csv\")\n",
    "ratings = pd.read_csv(f\"{PROCESSED_DIR}/ratings.csv\")\n",
    "\n",
    "# Sample recommendation for a few users\n",
    "sample_users = [1, 50, 100]\n",
    "\n",
    "for user_id in sample_users:\n",
    "    print(f\"Top 5 recommendations for user {user_id}:\")\n",
    "    top_movies = recommend(user_id, top_k=5)\n",
    "    print(top_movies)\n",
    "    print(\"-\"*40)\n",
    "\n",
    "# Evaluate Precision, Recall, NDCG for top-10 recommendations\n",
    "metrics = evaluate(top_k=10)\n",
    "print(\"Evaluation metrics for content-based recommender:\")\n",
    "print(metrics)\n"
   ]
  }
 ],
 "metadata": {
  "kernelspec": {
   "display_name": "Python 3",
   "language": "python",
   "name": "python3"
  },
  "language_info": {
   "codemirror_mode": {
    "name": "ipython",
    "version": 3
   },
   "file_extension": ".py",
   "mimetype": "text/x-python",
   "name": "python",
   "nbconvert_exporter": "python",
   "pygments_lexer": "ipython3",
   "version": "3.10.11"
  }
 },
 "nbformat": 4,
 "nbformat_minor": 5
}
